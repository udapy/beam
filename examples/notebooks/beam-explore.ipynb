{
  "nbformat": 4,
  "nbformat_minor": 0,
  "metadata": {
    "colab": {
      "name": "beach-ml.ipynb",
      "provenance": [],
      "authorship_tag": "ABX9TyPJxoJ7i/QuHckNM+TdYuSt",
      "include_colab_link": true
    },
    "kernelspec": {
      "name": "python3",
      "display_name": "Python 3"
    }
  },
  "cells": [
    {
      "cell_type": "markdown",
      "metadata": {
        "id": "view-in-github",
        "colab_type": "text"
      },
      "source": [
        "<a href=\"https://colab.research.google.com/github/udapy/beam/blob/colab-examples/examples/notebooks/beam-explore.ipynb\" target=\"_parent\"><img src=\"https://colab.research.google.com/assets/colab-badge.svg\" alt=\"Open In Colab\"/></a>"
      ]
    },
    {
      "cell_type": "markdown",
      "metadata": {
        "id": "L7_dEAFo0rpA"
      },
      "source": [
        "## **Apache Beam - ETL**"
      ]
    },
    {
      "cell_type": "code",
      "metadata": {
        "colab": {
          "base_uri": "https://localhost:8080/"
        },
        "id": "DpjYIOu10W2p",
        "outputId": "34e1d055-45d0-4dcb-bca9-148a49ae860b"
      },
      "source": [
        "# install apache-beam\n",
        "!pip install --quiet apache-beam"
      ],
      "execution_count": 5,
      "outputs": [
        {
          "output_type": "stream",
          "text": [
            "\u001b[K     |████████████████████████████████| 8.9MB 4.2MB/s \n",
            "\u001b[K     |████████████████████████████████| 63.8MB 54kB/s \n",
            "\u001b[K     |████████████████████████████████| 61kB 7.3MB/s \n",
            "\u001b[K     |████████████████████████████████| 153kB 42.3MB/s \n",
            "\u001b[K     |████████████████████████████████| 61kB 6.9MB/s \n",
            "\u001b[K     |████████████████████████████████| 2.0MB 50.3MB/s \n",
            "\u001b[K     |████████████████████████████████| 829kB 27.9MB/s \n",
            "\u001b[K     |████████████████████████████████| 51kB 5.2MB/s \n",
            "\u001b[K     |████████████████████████████████| 112kB 36.4MB/s \n",
            "\u001b[?25h  Building wheel for dill (setup.py) ... \u001b[?25l\u001b[?25hdone\n",
            "  Building wheel for future (setup.py) ... \u001b[?25l\u001b[?25hdone\n",
            "  Building wheel for avro-python3 (setup.py) ... \u001b[?25l\u001b[?25hdone\n",
            "  Building wheel for hdfs (setup.py) ... \u001b[?25l\u001b[?25hdone\n",
            "\u001b[31mERROR: multiprocess 0.70.11.1 has requirement dill>=0.3.3, but you'll have dill 0.3.1.1 which is incompatible.\u001b[0m\n",
            "\u001b[31mERROR: google-colab 1.0.0 has requirement requests~=2.23.0, but you'll have requests 2.25.1 which is incompatible.\u001b[0m\n",
            "\u001b[31mERROR: datascience 0.10.6 has requirement folium==0.2.1, but you'll have folium 0.8.3 which is incompatible.\u001b[0m\n"
          ],
          "name": "stdout"
        }
      ]
    },
    {
      "cell_type": "markdown",
      "metadata": {
        "id": "1P5Njg_n1pB9"
      },
      "source": [
        "## Pipeline Components\n",
        "1. Data gets stored into **PCollections** Parallel Collection (list of elements)\n",
        "2. Data transformation with **PTransform** Parallel Transform\n",
        "\n",
        "## Production Pipeline\n",
        "Feeding python list [0,1,2,3] to print it\n",
        "3 stages feeding transform data from current stage to next stage.\n",
        "\n",
        "Adding label for transform -- 'My description' >> MyTransform \n",
        "\n",
        "```\n",
        "outputs = ( pipeline | 'First step' >> step1 | 'Second step' >> step2 | 'Third step' >> step3)\n",
        "\n",
        "```\n",
        "\n",
        "- Runner = `DirectRunner`\n"
      ]
    },
    {
      "cell_type": "code",
      "metadata": {
        "colab": {
          "base_uri": "https://localhost:8080/"
        },
        "id": "1olUOKyM4ZgF",
        "outputId": "2278e857-a678-4f8f-fac6-d1869f949044"
      },
      "source": [
        "import apache_beam as beam\n",
        "\n",
        "inputs = [0, 1, 2, 4, 10, 12, 78]\n",
        "\n",
        "#creating pipeline\n",
        "with beam.Pipeline() as pipeline:\n",
        "  #feeding input elements with 'Create'\n",
        "  outputs = ( pipeline | 'Creating Initial values' >> beam.Create(inputs))\n",
        "  \n",
        "  # 'outputs' - PCollections \n",
        "  print(f\"outputs: {outputs}\")"
      ],
      "execution_count": 8,
      "outputs": [
        {
          "output_type": "stream",
          "text": [
            "outputs: PCollection[[8]: Creating Initial values/Map(decode).None]\n"
          ],
          "name": "stdout"
        }
      ]
    },
    {
      "cell_type": "markdown",
      "metadata": {
        "id": "WhcxFaSs6omR"
      },
      "source": [
        "#### *To display contents of 'PCollections'*"
      ]
    },
    {
      "cell_type": "code",
      "metadata": {
        "colab": {
          "base_uri": "https://localhost:8080/"
        },
        "id": "ms4H6QlQ57SR",
        "outputId": "445ff8b7-8037-4a5f-8dd5-8bdbd3bf54cb"
      },
      "source": [
        "import apache_beam as beam\n",
        "\n",
        "inputs = [0, 1, 2, 4, 10, 12, 78]\n",
        "\n",
        "#creating pipeline\n",
        "with beam.Pipeline() as pipeline:\n",
        "  #feeding input elements with 'Create'\n",
        "  outputs = ( pipeline | 'Creating Initial values' >> beam.Create(inputs))\n",
        "  \n",
        "  # Using beam.Map to display contents of PCollection.\n",
        "  # data can be in multiple machines, \n",
        "  # to display them efficiently use beam.Map \n",
        "  outputs | beam.Map(print)"
      ],
      "execution_count": 10,
      "outputs": [
        {
          "output_type": "stream",
          "text": [
            "0\n",
            "1\n",
            "2\n",
            "4\n",
            "10\n",
            "12\n",
            "78\n"
          ],
          "name": "stdout"
        }
      ]
    },
    {
      "cell_type": "markdown",
      "metadata": {
        "id": "5OUXk-zR8gTJ"
      },
      "source": [
        "## Data Transformation\n",
        "\n",
        "1. Map: one-to-one\n",
        "2. FlatMap: one-to-many\n",
        "3. Filter: one-to-zero\n",
        "4. Combine: many-to-one\n",
        "5. GroupByKey: group related elements\n"
      ]
    },
    {
      "cell_type": "code",
      "metadata": {
        "id": "JGJplDs-9OV3"
      },
      "source": [
        ""
      ],
      "execution_count": null,
      "outputs": []
    }
  ]
}